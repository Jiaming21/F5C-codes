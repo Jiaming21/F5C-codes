{
 "cells": [
  {
   "cell_type": "code",
   "execution_count": 189,
   "id": "1a77fc33",
   "metadata": {},
   "outputs": [],
   "source": [
    "import pandas as pd\n",
    "import numpy as np\n",
    "import torch\n",
    "import torch.nn as nn\n",
    "from torch.utils.data import Dataset, DataLoader, random_split\n",
    "import torch.optim as optim\n",
    "from sklearn.metrics import accuracy_score, precision_score, recall_score, f1_score,confusion_matrix, ConfusionMatrixDisplay,roc_auc_score, matthews_corrcoef\n",
    "import matplotlib.pyplot as plt\n",
    "from sklearn.model_selection import KFold "
   ]
  },
  {
   "cell_type": "code",
   "execution_count": 299,
   "id": "1e10b76e",
   "metadata": {},
   "outputs": [],
   "source": [
    "batch_size = 128\n",
    "loaded_datasets_info = torch.load('D:/Jupyter_directory/F5C-codes/Models/saved_datasets.pth')\n",
    "loaded_train_dataset = loaded_datasets_info['train_dataset']\n",
    "loaded_val_dataset = loaded_datasets_info['val_dataset']\n",
    "loaded_test_dataset = loaded_datasets_info['test_dataset']\n",
    "loaded_train_loader = DataLoader(loaded_train_dataset, batch_size = batch_size, shuffle=False) \n",
    "loaded_val_loader = DataLoader(loaded_val_dataset, batch_size = batch_size, shuffle=False) \n",
    "loaded_test_loader = DataLoader(loaded_test_dataset, batch_size = batch_size, shuffle=False) \n",
    "X_train = []\n",
    "y_train = []\n",
    "for x, y in loaded_train_dataset:\n",
    "    X_train.append(x)\n",
    "    y_train.append(y)\n",
    "X_test = []\n",
    "y_test = []\n",
    "for x, y in loaded_test_dataset:\n",
    "    X_test.append(x)\n",
    "    y_test.append(y)\n",
    "X_val = []\n",
    "y_val = []\n",
    "for x, y in loaded_val_dataset:\n",
    "    X_val.append(x)\n",
    "    y_val.append(y)\n",
    "y_train = np.array(torch.stack(y_train)).reshape(-1,)\n",
    "y_test = np.array(torch.stack(y_test)).reshape(-1,)\n",
    "y_val = np.array(torch.stack(y_val)).reshape(-1,)\n",
    "X_train = np.array(torch.stack(X_train)).reshape(-1, 240)\n",
    "X_test = np.array(torch.stack(X_test)).reshape(-1, 240)\n",
    "X_val = np.array(torch.stack(X_val)).reshape(-1, 240)"
   ]
  },
  {
   "cell_type": "code",
   "execution_count": 300,
   "id": "c051329a",
   "metadata": {},
   "outputs": [],
   "source": [
    "X_train = X_train.reshape(-1, 10,24)\n",
    "X_test = X_test.reshape(-1, 10,24)\n",
    "X_val = X_val.reshape(-1, 10,24)"
   ]
  },
  {
   "cell_type": "code",
   "execution_count": 301,
   "id": "fe456aa2",
   "metadata": {},
   "outputs": [],
   "source": [
    "class MyDataSet(Dataset):\n",
    "    def __init__(self, data, label):\n",
    "        self.data = torch.from_numpy(data).float()\n",
    "        self.label = torch.from_numpy(label).float()\n",
    "        self.length = label.shape[0]\n",
    "        \n",
    "    def __getitem__(self, index):\n",
    "        return self.data[index], self.label[index]\n",
    "    def __len__(self):\n",
    "        return self.length"
   ]
  },
  {
   "cell_type": "code",
   "execution_count": 302,
   "id": "0768e7b3",
   "metadata": {},
   "outputs": [],
   "source": [
    "train_dataset = MyDataSet(X_train, y_train) \n",
    "test_dataset = MyDataSet(X_test, y_test) \n",
    "val_dataset = MyDataSet(X_val, y_val) "
   ]
  },
  {
   "cell_type": "code",
   "execution_count": 214,
   "id": "97c13dc0",
   "metadata": {},
   "outputs": [],
   "source": [
    "train_dataloader = DataLoader(train_dataset, batch_size = 16, shuffle=True) \n",
    "test_dataloader = DataLoader(test_dataset, batch_size= len(test_dataset), shuffle=True) \n",
    "val_dataloader = DataLoader(test_dataset, batch_size= len(val_dataset), shuffle=True) "
   ]
  },
  {
   "cell_type": "code",
   "execution_count": 283,
   "id": "a700e394",
   "metadata": {},
   "outputs": [],
   "source": [
    "def metrics_output(preds,labels):\n",
    "    true_labels = np.array(labels)\n",
    "    predicted_probs = np.array(preds)\n",
    "    binary_predictions = (predicted_probs >= 0.5).astype(int)\n",
    "    auc = roc_auc_score(true_labels, predicted_probs)\n",
    "    conf_matrix = confusion_matrix(true_labels, binary_predictions)\n",
    "    tn, fp, fn, tp = conf_matrix.ravel()\n",
    "    sensitivity = tp / (tp + fn)\n",
    "    specificity = tn / (tn + fp)\n",
    "    accuracy = accuracy_score(true_labels, binary_predictions)\n",
    "    f1 = f1_score(true_labels, binary_predictions)\n",
    "    mcc = matthews_corrcoef(true_labels, binary_predictions)  \n",
    "    return (auc, sensitivity, specificity, accuracy, f1, mcc)"
   ]
  },
  {
   "cell_type": "code",
   "execution_count": 291,
   "id": "baca7831",
   "metadata": {},
   "outputs": [],
   "source": [
    "class TransformerEncoderClassification(nn.Module):\n",
    "    def __init__(self):\n",
    "        super(TransformerEncoderClassification, self).__init__()\n",
    "        self.transformer_encoder = nn.TransformerEncoder(\n",
    "            nn.TransformerEncoderLayer(d_model=24, nhead=8), \n",
    "            num_layers= 3,\n",
    "        ) \n",
    "        self.fc = nn.Linear(10*24, 2)\n",
    "\n",
    "    def forward(self, x):\n",
    "        x = x.permute(1, 0, 2)  \n",
    "        x = self.transformer_encoder(x) \n",
    "        x = x.permute(1, 0, 2) \n",
    "        x = x.flatten(1) \n",
    "        x = self.fc(x)\n",
    "        return x\n",
    "    \n",
    "model = TransformerEncoderClassification() \n",
    "criterion = nn.CrossEntropyLoss()\n",
    "optimizer = optim.SGD(model.parameters(), lr=0.005)"
   ]
  },
  {
   "cell_type": "code",
   "execution_count": null,
   "id": "0fd4dfb1",
   "metadata": {},
   "outputs": [],
   "source": [
    "kf = KFold(n_splits=5, shuffle=True, random_state=42)\n",
    "train_dataset = ConcatDataset([loaded_train_dataset, loaded_val_dataset])\n",
    "train_loader = DataLoader(train_dataset, batch_size=batch_size)\n",
    "\n",
    "for fold_idx, (train_index, val_index) in enumerate(kf.split(train_loader.dataset)):\n",
    "    predicted_probabilities = []\n",
    "    true_labels = []\n",
    "    predicted_labels = []  \n",
    "    train_loader_fold = DataLoader(Subset(train_loader.dataset, train_index), batch_size=batch_size)\n",
    "    val_loader_fold = DataLoader(Subset(train_loader.dataset, val_index), batch_size=batch_size)\n",
    "    model = TransformerEncoderClassification()\n",
    "    \n",
    "    for epoch in range(15):    \n",
    "        model = TransformerEncoderClassification() \n",
    "        for batch_idx, (features, targets) in enumerate(train_loader_fold):     \n",
    "            optimizer.zero_grad()\n",
    "            outputs = model(features)\n",
    "            loss = criterion(outputs, targets) \n",
    "            loss.backward()\n",
    "            optimizer.step()\n",
    "    \n",
    "    with torch.set_grad_enabled(False):\n",
    "        for batch_idx, (features, targets) in enumerate(val_loader_fold):\n",
    "            logits = model(features.float())\n",
    "            _, y_pred = torch.max(logits.data, dim=1)\n",
    "            predicted_labels.extend(y_pred.tolist()) \n",
    "            logits = torch.nn.functional.softmax(logits)\n",
    "            predicted_probabilities.extend(logits[:,1].tolist()) \n",
    "            true_labels.extend(targets.tolist())\n",
    "    #torch.save(model.state_dict(), f'D:/Jupyter_directory/Res-F5C-main/Results(Yue)/Geo/VIT/transformer_{fold_idx}.pth')\n",
    "    #np.save(f'D:/Jupyter_directory/Res-F5C-main/Results(Yue)/Geo/VIT/y_val_pred_{fold_idx}.npy', predicted_probabilities)\n",
    "    #np.save(f'D:/Jupyter_directory/Res-F5C-main/Results(Yue)/Geo/VIT/y_val_{fold_idx}.npy', true_labels)"
   ]
  },
  {
   "cell_type": "code",
   "execution_count": null,
   "id": "95b0d35d",
   "metadata": {},
   "outputs": [],
   "source": [
    "#model = Net_conv(input_length = datas.shape[2])\n",
    "#model.load_state_dict(torch.load('D:/Jupyter_directory/Res-F5C-main/Results(Yue)/Geo/VIT/transformer_{fold_idx}.pth'))\n",
    "#predicted_probabilities = np.load(f'D:/Jupyter_directory/Res-F5C-main/Results(Yue)/Geo/VIT/y_val_pred_{fold_idx}.npy')\n",
    "#true_labels = np.load(f'D:/Jupyter_directory/Res-F5C-main/Results(Yue)/Geo/VIT/y_val_{fold_idx}.npy')"
   ]
  },
  {
   "cell_type": "code",
   "execution_count": 308,
   "id": "77ed7b72",
   "metadata": {
    "scrolled": true
   },
   "outputs": [
    {
     "name": "stdout",
     "output_type": "stream",
     "text": [
      "0.7314667448483833 0.7207446808510638 0.6272965879265092 0.6737120211360634 0.6869455006337135 0.349488513382641\n"
     ]
    }
   ],
   "source": [
    "roc_auc, metrics_sn, metrics_sp, metrics_ACC, metrics_F1, metrics_MCC = metrics_output(predicted_probabilities,true_labels)\n",
    "print(roc_auc, metrics_sn, metrics_sp, metrics_ACC, metrics_F1, metrics_MCC)"
   ]
  },
  {
   "cell_type": "code",
   "execution_count": 309,
   "id": "62625284",
   "metadata": {},
   "outputs": [],
   "source": [
    "#np.save('D:/Jupyter_directory/Res-F5C-main/Results(Yue)/Geo/VIT/y_val_pred.npy', predicted_probabilities)\n",
    "#np.save('D:/Jupyter_directory/Res-F5C-main/Results(Yue)/Geo/VIT/y_val.npy', true_labels)"
   ]
  },
  {
   "cell_type": "code",
   "execution_count": 313,
   "id": "c15af484",
   "metadata": {},
   "outputs": [
    {
     "name": "stderr",
     "output_type": "stream",
     "text": [
      "C:\\Users\\yue\\AppData\\Local\\Temp/ipykernel_19440/1434766837.py:9: UserWarning: Implicit dimension choice for softmax has been deprecated. Change the call to include dim=X as an argument.\n",
      "  logits = torch.nn.functional.softmax(logits)\n"
     ]
    }
   ],
   "source": [
    "predicted_labels = []  \n",
    "true_labels = [] \n",
    "predicted_probabilities = []\n",
    "with torch.set_grad_enabled(False): \n",
    "    for batch_idx, (features, targets) in enumerate(test_dataloader):\n",
    "        logits = model(features.float())\n",
    "        _, y_pred = torch.max(logits.data, dim=1)\n",
    "        predicted_labels.extend(y_pred.tolist()) \n",
    "        logits = torch.nn.functional.softmax(logits)\n",
    "        predicted_probabilities.extend(logits[:,1].tolist()) \n",
    "        true_labels.extend(targets.tolist())"
   ]
  },
  {
   "cell_type": "code",
   "execution_count": 314,
   "id": "23e59028",
   "metadata": {
    "scrolled": true
   },
   "outputs": [
    {
     "name": "stdout",
     "output_type": "stream",
     "text": [
      "0.7317320042441504 0.7446808510638298 0.6272965879265092 0.6856010568031704 0.7017543859649124 0.3744504711298937\n"
     ]
    }
   ],
   "source": [
    "roc_auc, metrics_sn, metrics_sp, metrics_ACC, metrics_F1, metrics_MCC = metrics_output(predicted_probabilities,true_labels)\n",
    "print(roc_auc, metrics_sn, metrics_sp, metrics_ACC, metrics_F1, metrics_MCC)"
   ]
  },
  {
   "cell_type": "code",
   "execution_count": 315,
   "id": "de0ab56d",
   "metadata": {},
   "outputs": [],
   "source": [
    "#np.save('D:/Jupyter_directory/Res-F5C-main/Results(Yue)/Geo/VIT/y_test_pred.npy', predicted_probabilities)\n",
    "#np.save('D:/Jupyter_directory/Res-F5C-main/Results(Yue)/Geo/VIT/y_test.npy', true_labels)"
   ]
  }
 ],
 "metadata": {
  "kernelspec": {
   "display_name": "Python 3 (ipykernel)",
   "language": "python",
   "name": "python3"
  },
  "language_info": {
   "codemirror_mode": {
    "name": "ipython",
    "version": 3
   },
   "file_extension": ".py",
   "mimetype": "text/x-python",
   "name": "python",
   "nbconvert_exporter": "python",
   "pygments_lexer": "ipython3",
   "version": "3.9.7"
  }
 },
 "nbformat": 4,
 "nbformat_minor": 5
}
