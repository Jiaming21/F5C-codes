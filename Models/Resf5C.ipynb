{
 "cells": [
  {
   "cell_type": "code",
   "execution_count": 10,
   "id": "60568334",
   "metadata": {},
   "outputs": [],
   "source": [
    "import torch\n",
    "import torch.nn as nn\n",
    "import pandas as pd\n",
    "import numpy as np\n",
    "from sklearn.model_selection import train_test_split\n",
    "from torch.utils.data import Dataset, DataLoader,TensorDataset, random_split，ConcatDataset\n",
    "import torch.optim as optim\n",
    "from sklearn.model_selection import KFold \n",
    "import torch.optim.lr_scheduler as lr_scheduler\n",
    "import matplotlib.pyplot as plt\n",
    "from torch.utils.data import Subset\n",
    "from sklearn.metrics import roc_curve, auc, roc_auc_score, confusion_matrix, accuracy_score, f1_score, matthews_corrcoef"
   ]
  },
  {
   "cell_type": "code",
   "execution_count": 11,
   "id": "e65b81f3",
   "metadata": {},
   "outputs": [],
   "source": [
    "learning_rate = 0.0001\n",
    "num_epochs = 50\n",
    "batch_size = 256\n",
    "num_classes = 2"
   ]
  },
  {
   "cell_type": "code",
   "execution_count": 25,
   "id": "df28f32c",
   "metadata": {},
   "outputs": [],
   "source": [
    "batch_size = 128\n",
    "loaded_datasets_info = torch.load('D:/Jupyter_directory/F5C-codes/Models/saved_datasets.pth')\n",
    "loaded_train_dataset = loaded_datasets_info['train_dataset']\n",
    "loaded_val_dataset = loaded_datasets_info['val_dataset']\n",
    "loaded_test_dataset = loaded_datasets_info['test_dataset']\n",
    "loaded_train_loader = DataLoader(loaded_train_dataset, batch_size = batch_size, shuffle=False) \n",
    "loaded_val_loader = DataLoader(loaded_val_dataset, batch_size = batch_size, shuffle=False) \n",
    "loaded_test_loader = DataLoader(loaded_test_dataset, batch_size = batch_size, shuffle=False) \n",
    "train_loader = loaded_train_loader\n",
    "val_loader = loaded_val_loader\n",
    "test_loader = loaded_test_dataset"
   ]
  },
  {
   "cell_type": "code",
   "execution_count": 26,
   "id": "db469f2b",
   "metadata": {},
   "outputs": [],
   "source": [
    "def metrics_output(preds,labels):\n",
    "    true_labels = np.array(labels)\n",
    "    predicted_probs = np.array(preds)\n",
    "    binary_predictions = (predicted_probs >= 0.5).astype(int)\n",
    "    auc = roc_auc_score(true_labels, predicted_probs)\n",
    "    conf_matrix = confusion_matrix(true_labels, binary_predictions)\n",
    "    tn, fp, fn, tp = conf_matrix.ravel()\n",
    "    sensitivity = tp / (tp + fn)\n",
    "    specificity = tn / (tn + fp)\n",
    "    accuracy = accuracy_score(true_labels, binary_predictions)\n",
    "    f1 = f1_score(true_labels, binary_predictions)\n",
    "    mcc = matthews_corrcoef(true_labels, binary_predictions)  \n",
    "    return (auc, sensitivity, specificity, accuracy, f1, mcc)"
   ]
  },
  {
   "cell_type": "code",
   "execution_count": 27,
   "id": "38835952",
   "metadata": {},
   "outputs": [],
   "source": [
    "size = 8\n",
    "class Net_conv(torch.nn.Module):\n",
    "    def __init__(self, input_length):\n",
    "        super(Net_conv, self).__init__()\n",
    "        self.block_1 = torch.nn.Sequential(\n",
    "            torch.nn.Conv1d(in_channels=1,\n",
    "                            out_channels=size,\n",
    "                            kernel_size=1,\n",
    "                            stride=1,\n",
    "                            padding=0),\n",
    "            torch.nn.BatchNorm1d(size),\n",
    "            torch.nn.ReLU(inplace=True),\n",
    "            torch.nn.Conv1d(in_channels=size,\n",
    "                                out_channels=2*size,\n",
    "                                kernel_size=3,\n",
    "                                stride=1,\n",
    "                                padding=1),\n",
    "            torch.nn.BatchNorm1d(2*size)\n",
    "        )\n",
    "        self.block_2 = torch.nn.Sequential(\n",
    "            torch.nn.Conv1d(in_channels=2*size,\n",
    "                            out_channels=4*size,\n",
    "                            kernel_size=1,\n",
    "                            stride=1,\n",
    "                            padding=0),\n",
    "            torch.nn.BatchNorm1d(4*size),\n",
    "            torch.nn.ReLU(inplace=True),\n",
    "            torch.nn.Conv1d(in_channels=4*size,\n",
    "                                out_channels=2*size,\n",
    "                                kernel_size=3, \n",
    "                                stride=1,\n",
    "                                padding=1),\n",
    "            torch.nn.BatchNorm1d(2*size)\n",
    "        )\n",
    "        iutput_size_block_1 = (input_length - 1 + 2 * 0) // 1 + 1  \n",
    "        output_size_block_2 = (iutput_size_block_1 - 1 + 2 * 0) // 1 + 1  \n",
    "        num_channels_last_layer = 2*size \n",
    "        linear_input_size = num_channels_last_layer * output_size_block_2    \n",
    "        self.linear_1 = torch.nn.Linear(linear_input_size, 1)\n",
    "        self.sigmoid = nn.Sigmoid()\n",
    "    \n",
    "    def forward(self, x):\n",
    "        shortcut = x.float()\n",
    "        x = self.block_1(x)\n",
    "        x = torch.nn.functional.relu(x + shortcut)    \n",
    "        shortcut = x\n",
    "        x = self.block_2(x)\n",
    "        x = torch.nn.functional.relu(x + shortcut)     \n",
    "        x = x.view(x.size(0), -1)\n",
    "        x =  self.linear_1(x)\n",
    "        x = self.sigmoid(x)\n",
    "        return x\n",
    "\n",
    "model = Net_conv(input_length = 240)\n",
    "optimizer = torch.optim.Adam(model.parameters(), lr=learning_rate)  \n",
    "criterion = nn.BCELoss()  "
   ]
  },
  {
   "cell_type": "code",
   "execution_count": null,
   "id": "cf27efd5",
   "metadata": {},
   "outputs": [],
   "source": [
    "kf = KFold(n_splits=5, shuffle=True, random_state=42)\n",
    "train_dataset = ConcatDataset([loaded_train_dataset, loaded_val_dataset])\n",
    "train_loader = DataLoader(train_dataset, batch_size=batch_size)\n",
    "\n",
    "for fold_idx, (train_index, val_index) in enumerate(kf.split(train_loader.dataset)):\n",
    "    predicted_probabilities = []\n",
    "    true_labels = []\n",
    "    train_loader_fold = DataLoader(Subset(train_loader.dataset, train_index), batch_size=batch_size)\n",
    "    val_loader_fold = DataLoader(Subset(train_loader.dataset, val_index), batch_size=batch_size)\n",
    "    model = Net_conv(input_length = 240)\n",
    "    \n",
    "    for epoch in range(num_epochs):\n",
    "        model = model.train()\n",
    "        for batch_idx, (features, targets) in enumerate(train_loader_fold):     \n",
    "            optimizer.zero_grad()\n",
    "            outputs = model(features)\n",
    "            loss = criterion(outputs, targets) \n",
    "            loss.backward()\n",
    "            optimizer.step()\n",
    "    \n",
    "    with torch.set_grad_enabled(False):\n",
    "        for batch_idx, (features, targets) in enumerate(val_loader_fold):\n",
    "            logits = model(features.float())\n",
    "            probabilities = logits\n",
    "            predicted_probabilities.extend(probabilities.tolist())\n",
    "            true_labels.extend(targets.tolist())\n",
    "    #torch.save(model.state_dict(), f'D:/Jupyter_directory/Res-F5C-main/Results(Yue)/Geo/ResNet/ResNet_{fold_idx}.pth')\n",
    "    #np.save(f'D:/Jupyter_directory/Res-F5C-main/Results(Yue)/Geo/ResNet/y_val_pred_{fold_idx}.npy', predicted_probabilities)\n",
    "    #np.save(f'D:/Jupyter_directory/Res-F5C-main/Results(Yue)/Geo/ResNet/y_val_{fold_idx}.npy', true_labels)"
   ]
  },
  {
   "cell_type": "code",
   "execution_count": 16,
   "id": "9ed92303",
   "metadata": {},
   "outputs": [],
   "source": [
    "#model = Net_conv(input_length = datas.shape[2])\n",
    "#model.load_state_dict(torch.load('D:/Jupyter_directory/Res-F5C-main/Results(Yue)/Geo/ResNet_{fold_idx}.pth'))\n",
    "#predicted_probabilities = np.load(f'D:/Jupyter_directory/Res-F5C-main/Results(Yue)/Geo/ResNet/y_val_pred_{fold_idx}.npy')\n",
    "#true_labels = np.load(f'D:/Jupyter_directory/Res-F5C-main/Results(Yue)/Geo/ResNet/y_val_{fold_idx}.npy')"
   ]
  },
  {
   "cell_type": "code",
   "execution_count": 604,
   "id": "243a0247",
   "metadata": {},
   "outputs": [
    {
     "name": "stdout",
     "output_type": "stream",
     "text": [
      "0.8077720094232614 0.8082191780821918 0.6337579617834395 0.7178217821782178 0.734059097978227 0.4473345151411481\n"
     ]
    }
   ],
   "source": [
    "roc_auc, metrics_sn, metrics_sp, metrics_ACC, metrics_F1, metrics_MCC = metrics_output(predicted_probabilities,true_labels)\n",
    "print(roc_auc, metrics_sn, metrics_sp, metrics_ACC, metrics_F1, metrics_MCC) "
   ]
  },
  {
   "cell_type": "code",
   "execution_count": null,
   "id": "7da08e1b",
   "metadata": {},
   "outputs": [],
   "source": [
    "#np.save('D:/Jupyter_directory/Res-F5C-main/Results(Yue)/Geo/ResNet/y_val_pred.npy', predicted_probabilities)\n",
    "#np.save('D:/Jupyter_directory/Res-F5C-main/Results(Yue)/Geo/ResNet/y_val.npy', true_labels)"
   ]
  },
  {
   "cell_type": "code",
   "execution_count": 606,
   "id": "668459d0",
   "metadata": {},
   "outputs": [],
   "source": [
    "predicted_probabilities = []  \n",
    "true_labels = []  \n",
    "with torch.set_grad_enabled(False): \n",
    "    for batch_idx, (features, targets) in enumerate(loaded_test_loader):\n",
    "        logits = model(features.float())\n",
    "        predicted_probabilities.extend(logits.tolist()) \n",
    "        true_labels.extend(targets.tolist())"
   ]
  },
  {
   "cell_type": "code",
   "execution_count": 607,
   "id": "37ce55de",
   "metadata": {
    "scrolled": true
   },
   "outputs": [
    {
     "name": "stdout",
     "output_type": "stream",
     "text": [
      "0.8076659965376669 0.8085106382978723 0.6141732283464567 0.7107001321003963 0.7351874244256349 0.430648657558436\n"
     ]
    }
   ],
   "source": [
    "roc_auc, metrics_sn, metrics_sp, metrics_ACC, metrics_F1, metrics_MCC = metrics_output(predicted_probabilities,true_labels)\n",
    "print(roc_auc, metrics_sn, metrics_sp, metrics_ACC, metrics_F1, metrics_MCC) "
   ]
  },
  {
   "cell_type": "code",
   "execution_count": 605,
   "id": "df0dec12",
   "metadata": {},
   "outputs": [],
   "source": [
    "#np.save('D:/Jupyter_directory/Res-F5C-main/Results(Yue)/Geo/ResNet/y_test_pred.npy', predicted_probabilities)\n",
    "#np.save('D:/Jupyter_directory/Res-F5C-main/Results(Yue)/Geo/ResNet/y_test.npy', true_labels)"
   ]
  }
 ],
 "metadata": {
  "kernelspec": {
   "display_name": "Python 3 (ipykernel)",
   "language": "python",
   "name": "python3"
  },
  "language_info": {
   "codemirror_mode": {
    "name": "ipython",
    "version": 3
   },
   "file_extension": ".py",
   "mimetype": "text/x-python",
   "name": "python",
   "nbconvert_exporter": "python",
   "pygments_lexer": "ipython3",
   "version": "3.9.7"
  }
 },
 "nbformat": 4,
 "nbformat_minor": 5
}
