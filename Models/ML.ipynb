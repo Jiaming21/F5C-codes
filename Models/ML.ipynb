{
 "cells": [
  {
   "cell_type": "code",
   "execution_count": 8,
   "id": "858d3fba",
   "metadata": {},
   "outputs": [],
   "source": [
    "import pandas as pd\n",
    "import numpy as np\n",
    "import torch\n",
    "import torch.nn as nn\n",
    "import torch.optim as optim\n",
    "import torch.optim.lr_scheduler as lr_scheduler\n",
    "import matplotlib.pyplot as plt\n",
    "import math\n",
    "from sklearn.metrics import roc_curve, auc, roc_auc_score, confusion_matrix, accuracy_score, f1_score, matthews_corrcoef,recall_score, precision_score\n",
    "from sklearn.model_selection import KFold, train_test_split\n",
    "from torch.utils.data import TensorDataset, DataLoader, random_split"
   ]
  },
  {
   "cell_type": "code",
   "execution_count": 9,
   "id": "995dacc5",
   "metadata": {},
   "outputs": [],
   "source": [
    "batch_size = 128\n",
    "loaded_datasets_info = torch.load('D:/Jupyter_directory/Res-F5C-main/Results(Yue)/Data/saved_datasets.pth')\n",
    "loaded_train_dataset = loaded_datasets_info['train_dataset']\n",
    "loaded_val_dataset = loaded_datasets_info['val_dataset']\n",
    "loaded_test_dataset = loaded_datasets_info['test_dataset']"
   ]
  },
  {
   "cell_type": "code",
   "execution_count": null,
   "id": "77d4b528",
   "metadata": {},
   "outputs": [],
   "source": [
    "from sklearn.linear_model import LogisticRegression\n",
    "from sklearn.preprocessing import StandardScaler \n",
    "\n",
    "scaler = StandardScaler()\n",
    "X_train_scaled = scaler.fit_transform(X_train)\n",
    "X_test_scaled = scaler.transform(X_test)\n",
    "lr_model = LogisticRegression(max_iter=1000, random_state=42)\n",
    "predictions_val = cross_val_predict(lr_model, X_train_scaled, y_train, cv=5, method='predict_proba')[:, 1]# five-fold \n",
    "AUC_val = roc_auc_score(y_train, predictions_val)\n",
    "ACC_val = accuracy_score(y_train, (predictions_val > 0.5).astype(int))\n",
    "MCC_val = matthews_corrcoef(y_train, (predictions_val > 0.5).astype(int))\n",
    "Sn_val = recall_score(y_train, (predictions_val > 0.5).astype(int))\n",
    "Sp_val = precision_score(y_train, (predictions_val > 0.5).astype(int))\n",
    "F1_val = f1_score(y_train, (predictions_val > 0.5).astype(int))\n",
    "lr_model.fit(X_train, y_train)\n",
    "predictions_test = lr_model.predict_proba(X_test)[:, 1]\n",
    "AUC_test = roc_auc_score(y_test, predictions_test)\n",
    "ACC_test = accuracy_score(y_test, (predictions_test > 0.5).astype(int))\n",
    "MCC_test = matthews_corrcoef(y_test, (predictions_test > 0.5).astype(int))\n",
    "Sn_test = recall_score(y_test, (predictions_test > 0.5).astype(int))\n",
    "Sp_test = precision_score(y_test, (predictions_test > 0.5).astype(int))\n",
    "F1_test = f1_score(y_test, (predictions_test > 0.5).astype(int))\n",
    "print(\"Validation Metrics:\")\n",
    "print(\"AUC_val: {:.4f}\".format(AUC_val))\n",
    "print(\"ACC_val: {:.4f}\".format(ACC_val))\n",
    "print(\"MCC_val: {:.4f}\".format(MCC_val))\n",
    "print(\"Sn_val: {:.4f}\".format(Sn_val))\n",
    "print(\"Sp_val: {:.4f}\".format(Sp_val))\n",
    "print(\"F1_val: {:.4f}\".format(F1_val))\n",
    "\n",
    "print(\"Test Metrics:\")\n",
    "print(\"AUC_test: {:.4f}\".format(AUC_test))\n",
    "print(\"ACC_test: {:.4f}\".format(ACC_test))\n",
    "print(\"MCC_test: {:.4f}\".format(MCC_test))\n",
    "print(\"Sn_test: {:.4f}\".format(Sn_test))\n",
    "print(\"Sp_test: {:.4f}\".format(Sp_test))\n",
    "print(\"F1_test: {:.4f}\".format(F1_test))"
   ]
  },
  {
   "cell_type": "markdown",
   "id": "bdd61945",
   "metadata": {},
   "source": [
    "XGBoost"
   ]
  },
  {
   "cell_type": "code",
   "execution_count": 12,
   "id": "2fbbe3dd",
   "metadata": {},
   "outputs": [],
   "source": [
    "pos_domain = pd.read_csv('D:/Jupyter_directory/Res-F5C-main/Results(Yue)/Data/pos_domain_encoding_35.csv') \n",
    "neg_domain = pd.read_csv('D:/Jupyter_directory/Res-F5C-main/Results(Yue)/Data/neg_domain_encoding_35.csv') \n",
    "pos_sequence = pd.read_csv('D:/Jupyter_directory/Res-F5C-main/Datas/pos_encoding_OH_ND.csv') \n",
    "neg_sequence = pd.read_csv('D:/Jupyter_directory/Res-F5C-main/Datas/neg_encoding_OH_ND.csv') \n",
    "pos = pd.merge(pos_domain, pos_sequence, left_index=True,right_index=True)\n",
    "neg = pd.merge(neg_domain, neg_sequence, left_index=True,right_index=True)\n",
    "datas = np.concatenate((pos,neg),axis = 0)                                 \n",
    "datas = np.expand_dims(datas, axis = -2)\n",
    "labels = np.concatenate(([1] * pos.shape[0], [0] * neg.shape[0]),axis = 0)\n",
    "labels = np.expand_dims(labels,-1)\n",
    "datas_tensor = torch.tensor(datas, dtype=torch.float32)\n",
    "labels_tensor = torch.tensor(labels, dtype=torch.float32)\n",
    "dataset = TensorDataset(datas_tensor, labels_tensor)\n",
    "train_size = int(0.8 * len(dataset))\n",
    "train_size_1 = int(0.8 * train_size)\n",
    "val_size = train_size - train_size_1\n",
    "train_size = train_size_1\n",
    "test_size = len(dataset) - train_size - val_size\n",
    "loaded_train_dataset, loaded_val_dataset, loaded_test_dataset = random_split(dataset, [train_size, val_size, test_size])"
   ]
  },
  {
   "cell_type": "code",
   "execution_count": 23,
   "id": "52439b6e",
   "metadata": {},
   "outputs": [],
   "source": [
    "loaded_datasets_info = torch.load( 'D:/Jupyter_directory/F5C-codes/Results/Genomic features/XG/saved_datasets.pth')\n",
    "loaded_train_dataset = loaded_datasets_info['train_dataset']\n",
    "loaded_val_dataset = loaded_datasets_info['val_dataset']\n",
    "loaded_test_dataset = loaded_datasets_info['test_dataset']"
   ]
  },
  {
   "cell_type": "code",
   "execution_count": 24,
   "id": "a1ab321e",
   "metadata": {},
   "outputs": [],
   "source": [
    "X_train = []\n",
    "y_train = []\n",
    "for x, y in loaded_train_dataset:\n",
    "    X_train.append(x)\n",
    "    y_train.append(y)\n",
    "X_test = []\n",
    "y_test = []\n",
    "for x, y in loaded_test_dataset:\n",
    "    X_test.append(x)\n",
    "    y_test.append(y)\n",
    "X_val = []\n",
    "y_val = []\n",
    "for x, y in loaded_val_dataset:\n",
    "    X_val.append(x)\n",
    "    y_val.append(y)"
   ]
  },
  {
   "cell_type": "code",
   "execution_count": 26,
   "id": "086f8aaa",
   "metadata": {},
   "outputs": [],
   "source": [
    "y_train = np.array(torch.stack(y_train)).reshape(-1,)\n",
    "y_test = np.array(torch.stack(y_test)).reshape(-1,)\n",
    "y_val = np.array(torch.stack(y_val)).reshape(-1,)\n",
    "X_train = np.array(torch.stack(X_train)).reshape(-1, 240)\n",
    "X_test = np.array(torch.stack(X_test)).reshape(-1, 240)\n",
    "X_val = np.array(torch.stack(X_val)).reshape(-1, 240)"
   ]
  },
  {
   "cell_type": "code",
   "execution_count": 29,
   "id": "1407882a",
   "metadata": {},
   "outputs": [],
   "source": [
    "import xgboost as xgb\n",
    "import matplotlib.pyplot as plt"
   ]
  },
  {
   "cell_type": "code",
   "execution_count": 30,
   "id": "2aa761dd",
   "metadata": {},
   "outputs": [],
   "source": [
    "loaded_model = xgb.XGBRegressor(\n",
    "    objective='reg:squarederror',  \n",
    "    learning_rate=0.1,\n",
    "    max_depth=10,\n",
    "    n_estimators=30\n",
    ")\n",
    "xgb_model.load_model(\"D:/Jupyter_directory/F5C-codes/Results/Genomic features/XG/xgb_model.xgb\")"
   ]
  },
  {
   "cell_type": "code",
   "execution_count": 31,
   "id": "52825884",
   "metadata": {
    "scrolled": true
   },
   "outputs": [
    {
     "name": "stdout",
     "output_type": "stream",
     "text": [
      "0.7850631038141508 0.7014531043593131 0.41628207337413675 0.8218085106382979 0.6602564102564102 0.7322274881516587\n"
     ]
    }
   ],
   "source": [
    "y_pred = xgb_model.predict(X_test)\n",
    "AUC_test = roc_auc_score(y_test, y_pred)\n",
    "ACC_test = accuracy_score(y_test, (y_pred > 0.5).astype(int))\n",
    "MCC_test = matthews_corrcoef(y_test, (y_pred > 0.5).astype(int))\n",
    "Sn_test = recall_score(y_test, (y_pred > 0.5).astype(int))\n",
    "Sp_test = precision_score(y_test, (y_pred > 0.5).astype(int))\n",
    "F1_test = f1_score(y_test, (y_pred > 0.5).astype(int))\n",
    "print(AUC_test, ACC_test,MCC_test,Sn_test,Sp_test, F1_test)"
   ]
  },
  {
   "cell_type": "code",
   "execution_count": 33,
   "id": "e2f79744",
   "metadata": {},
   "outputs": [
    {
     "name": "stdout",
     "output_type": "stream",
     "text": [
      "0.7865369514004015 0.6897689768976898 0.3914882338109515 0.7842465753424658 0.6468926553672316 0.7089783281733746\n"
     ]
    }
   ],
   "source": [
    "y_pred = xgb_model.predict(X_val)\n",
    "AUC_test = roc_auc_score(y_val, y_pred)\n",
    "ACC_test = accuracy_score(y_val, (y_pred > 0.5).astype(int))\n",
    "MCC_test = matthews_corrcoef(y_val, (y_pred > 0.5).astype(int))\n",
    "Sn_test = recall_score(y_val, (y_pred > 0.5).astype(int))\n",
    "Sp_test = precision_score(y_val, (y_pred > 0.5).astype(int))\n",
    "F1_test = f1_score(y_val, (y_pred > 0.5).astype(int))\n",
    "print(AUC_test, ACC_test,MCC_test,Sn_test,Sp_test, F1_test)"
   ]
  },
  {
   "cell_type": "markdown",
   "id": "41f1add0",
   "metadata": {},
   "source": [
    "SVM"
   ]
  },
  {
   "cell_type": "code",
   "execution_count": 35,
   "id": "fdd6f942",
   "metadata": {
    "scrolled": true
   },
   "outputs": [],
   "source": [
    "from sklearn import datasets\n",
    "from sklearn.model_selection import train_test_split\n",
    "from sklearn.svm import SVC\n",
    "from sklearn.metrics import accuracy_score, classification_report\n",
    "svm_classifier = SVC(kernel='linear', C=1.0, probability = True)\n",
    "svm_classifier.fit(X_train, y_train)\n",
    "y_pred = svm_classifier.predict_proba(X_test)"
   ]
  },
  {
   "cell_type": "code",
   "execution_count": 36,
   "id": "37b03dea",
   "metadata": {},
   "outputs": [
    {
     "name": "stdout",
     "output_type": "stream",
     "text": [
      "0.7490855531356453 0.6842800528401585 0.3714072005567477 0.7393617021276596 0.6634844868735084 0.69937106918239\n"
     ]
    }
   ],
   "source": [
    "y_pred = y_pred[:,1]\n",
    "AUC_val = roc_auc_score(y_test, y_pred)\n",
    "ACC_val = accuracy_score(y_test, (y_pred > 0.5).astype(int))\n",
    "MCC_val = matthews_corrcoef(y_test, (y_pred > 0.5).astype(int))\n",
    "Sn_val = recall_score(y_test, (y_pred > 0.5).astype(int))\n",
    "Sp_val = precision_score(y_test, (y_pred > 0.5).astype(int))\n",
    "F1_val = f1_score(y_test, (y_pred > 0.5).astype(int))\n",
    "print(AUC_val, ACC_val, MCC_val, Sn_val, Sp_val, F1_val)"
   ]
  },
  {
   "cell_type": "code",
   "execution_count": null,
   "id": "4184f6b8",
   "metadata": {},
   "outputs": [],
   "source": []
  }
 ],
 "metadata": {
  "kernelspec": {
   "display_name": "Python 3 (ipykernel)",
   "language": "python",
   "name": "python3"
  },
  "language_info": {
   "codemirror_mode": {
    "name": "ipython",
    "version": 3
   },
   "file_extension": ".py",
   "mimetype": "text/x-python",
   "name": "python",
   "nbconvert_exporter": "python",
   "pygments_lexer": "ipython3",
   "version": "3.9.7"
  }
 },
 "nbformat": 4,
 "nbformat_minor": 5
}
