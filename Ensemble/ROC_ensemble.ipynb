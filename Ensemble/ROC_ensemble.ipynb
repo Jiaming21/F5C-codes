{
 "cells": [
  {
   "cell_type": "code",
   "execution_count": 1,
   "id": "61ab761d",
   "metadata": {},
   "outputs": [],
   "source": [
    "import pandas as pd\n",
    "import numpy as np\n",
    "from sklearn.model_selection import train_test_split\n",
    "from sklearn.model_selection import KFold \n",
    "import matplotlib.pyplot as plt\n",
    "from torch.utils.data import Subset\n",
    "from sklearn.metrics import roc_curve, auc, roc_auc_score, confusion_matrix, accuracy_score, f1_score, matthews_corrcoef,recall_score,precision_score"
   ]
  },
  {
   "cell_type": "code",
   "execution_count": 2,
   "id": "00b1c367",
   "metadata": {},
   "outputs": [],
   "source": [
    "def metrics_output(preds,labels):\n",
    "    true_labels = np.array(labels)\n",
    "    predicted_probs = np.array(preds)\n",
    "    binary_predictions = (predicted_probs >= 0.5).astype(int)\n",
    "    auc = roc_auc_score(true_labels, predicted_probs)\n",
    "    conf_matrix = confusion_matrix(true_labels, binary_predictions)\n",
    "    tn, fp, fn, tp = conf_matrix.ravel()\n",
    "    sensitivity = tp / (tp + fn)\n",
    "    specificity = tn / (tn + fp)\n",
    "    accuracy = accuracy_score(true_labels, binary_predictions)\n",
    "    f1 = f1_score(true_labels, binary_predictions)\n",
    "    mcc = matthews_corrcoef(true_labels, binary_predictions)  \n",
    "    return (auc, sensitivity, specificity, accuracy, f1, mcc)"
   ]
  },
  {
   "cell_type": "code",
   "execution_count": 10,
   "id": "8bb79e7e",
   "metadata": {},
   "outputs": [],
   "source": [
    "file_path = 'D:/Jupyter_directory/F5C-codes/Ensemble/ROC_emsemble/'\n",
    "ResNet_predicted_probabilities = np.load(file_path + 'ResNet_predicted_probabilities.npy')  \n",
    "Xgboost_predicted_probabilities = np.load(file_path + 'Xgboost_predicted_probabilities.npy')  \n",
    "LR_predicted_probabilities = np.load(file_path + 'LR_predicted_probabilities.npy')  \n",
    "LSTM_predicted_probabilities = np.load(file_path + 'LSTM_predicted_probabilities.npy')\n",
    "CNN_predicted_probabilities = np.load(file_path + 'CNN_predicted_probabilities.npy')  \n",
    "true_labels = np.load(file_path + 'true_labels.npy') "
   ]
  },
  {
   "cell_type": "markdown",
   "id": "b3a1b343",
   "metadata": {},
   "source": [
    "CNN + LSTM + LR + XGB + Resf5C"
   ]
  },
  {
   "cell_type": "code",
   "execution_count": 11,
   "id": "c45065c3",
   "metadata": {},
   "outputs": [
    {
     "data": {
      "text/plain": [
       "0.790563746021109"
      ]
     },
     "execution_count": 11,
     "metadata": {},
     "output_type": "execute_result"
    }
   ],
   "source": [
    "predicted_probabilities = (np.array(ResNet_predicted_probabilities).reshape(-1) + \n",
    "                           np.array(Xgboost_predicted_probabilities)+\n",
    "                           np.array(LR_predicted_probabilities)+\n",
    "                           np.array(LSTM_predicted_probabilities).reshape(-1) + \n",
    "                           np.array(CNN_predicted_probabilities).reshape(-1)\n",
    "                           )/5\n",
    "y_label = np.array(true_labels)\n",
    "y_hat = np.array(predicted_probabilities)\n",
    "fpr1, tpr1, _ = roc_curve(y_label, y_hat)\n",
    "roc_auc1 = auc(fpr1, tpr1)\n",
    "roc_auc1"
   ]
  },
  {
   "cell_type": "markdown",
   "id": "c5cba0fc",
   "metadata": {},
   "source": [
    "CNN + LR + XGB + Resf5C"
   ]
  },
  {
   "cell_type": "code",
   "execution_count": 12,
   "id": "3d9cc715",
   "metadata": {},
   "outputs": [
    {
     "data": {
      "text/plain": [
       "0.8025073993410397"
      ]
     },
     "execution_count": 12,
     "metadata": {},
     "output_type": "execute_result"
    }
   ],
   "source": [
    "predicted_probabilities = (np.array(ResNet_predicted_probabilities).reshape(-1) + \n",
    "                           np.array(Xgboost_predicted_probabilities)+\n",
    "                           np.array(LR_predicted_probabilities)+\n",
    "                           np.array(CNN_predicted_probabilities).reshape(-1)\n",
    "                           )/4\n",
    "y_hat = np.array(predicted_probabilities)\n",
    "fpr2, tpr2, _ = roc_curve(y_label, y_hat)\n",
    "roc_auc2 = auc(fpr2, tpr2)\n",
    "roc_auc2"
   ]
  },
  {
   "cell_type": "markdown",
   "id": "c96fcd40",
   "metadata": {},
   "source": [
    "CNN + LR + XGB"
   ]
  },
  {
   "cell_type": "code",
   "execution_count": 13,
   "id": "28e5832e",
   "metadata": {},
   "outputs": [
    {
     "data": {
      "text/plain": [
       "0.7939074105098565"
      ]
     },
     "execution_count": 13,
     "metadata": {},
     "output_type": "execute_result"
    }
   ],
   "source": [
    "predicted_probabilities = (np.array(Xgboost_predicted_probabilities)+\n",
    "                           np.array(LR_predicted_probabilities)+\n",
    "                           np.array(CNN_predicted_probabilities).reshape(-1)\n",
    "                           )/3\n",
    "y_hat = np.array(predicted_probabilities)\n",
    "fpr3, tpr3, _ = roc_curve(y_label, y_hat)\n",
    "roc_auc3 = auc(fpr3, tpr3)\n",
    "roc_auc3"
   ]
  },
  {
   "cell_type": "markdown",
   "id": "d6160532",
   "metadata": {},
   "source": [
    "LR + XGB + Resf5C"
   ]
  },
  {
   "cell_type": "code",
   "execution_count": 14,
   "id": "638710bc",
   "metadata": {},
   "outputs": [
    {
     "data": {
      "text/plain": [
       "0.815651700452337"
      ]
     },
     "execution_count": 14,
     "metadata": {},
     "output_type": "execute_result"
    }
   ],
   "source": [
    "predicted_probabilities = (np.array(ResNet_predicted_probabilities).reshape(-1) + \n",
    "                           np.array(Xgboost_predicted_probabilities)+\n",
    "                           np.array(LR_predicted_probabilities) \n",
    "                           )/3\n",
    "y_hat = np.array(predicted_probabilities)\n",
    "fpr4, tpr4, _ = roc_curve(y_label, y_hat)\n",
    "roc_auc4 = auc(fpr4, tpr4)\n",
    "roc_auc4"
   ]
  },
  {
   "cell_type": "markdown",
   "id": "6d1a780e",
   "metadata": {},
   "source": [
    "XGB + Resf5C"
   ]
  },
  {
   "cell_type": "code",
   "execution_count": 15,
   "id": "c99be356",
   "metadata": {},
   "outputs": [
    {
     "data": {
      "text/plain": [
       "0.8390154688110795"
      ]
     },
     "execution_count": 15,
     "metadata": {},
     "output_type": "execute_result"
    }
   ],
   "source": [
    "predicted_probabilities = (np.array(ResNet_predicted_probabilities).reshape(-1) + \n",
    "                           np.array(Xgboost_predicted_probabilities)\n",
    "                           )/2\n",
    "y_hat = np.array(predicted_probabilities)\n",
    "fpr5, tpr5, _ = roc_curve(y_label, y_hat)\n",
    "roc_auc5 = auc(fpr5, tpr5)\n",
    "roc_auc5"
   ]
  },
  {
   "cell_type": "code",
   "execution_count": 16,
   "id": "7bccbaab",
   "metadata": {},
   "outputs": [
    {
     "data": {
      "image/png": "[encoded data removed]",
      "text/plain": [
       "<Figure size 432x360 with 1 Axes>"
      ]
     },
     "metadata": {
      "needs_background": "light"
     },
     "output_type": "display_data"
    }
   ],
   "source": [
    "plt.figure(figsize=(6, 5))\n",
    "lw = 2\n",
    "plt.plot(\n",
    "    fpr1,\n",
    "    tpr1,\n",
    "    color=\"royalblue\",\n",
    "    lw=lw,\n",
    "    label=\"CNN + LSTM + LR + XGB + Resf5C (0.79)\" % roc_auc1,\n",
    ")\n",
    "plt.plot(\n",
    "    fpr2,\n",
    "    tpr2,\n",
    "    color=\"darkorange\",\n",
    "    lw=lw,\n",
    "    label=\"CNN + LR + XGB + Resf5C (0.80)\" % roc_auc2,\n",
    ")\n",
    "plt.plot(\n",
    "    fpr3,\n",
    "    tpr3,\n",
    "    color=\"forestgreen\",\n",
    "    lw=lw,\n",
    "    label=\"CNN + LR + XGB (0.79)\" % roc_auc3,\n",
    ")\n",
    "plt.plot(\n",
    "    fpr4,\n",
    "    tpr4,\n",
    "    color=\"mediumpurple\",\n",
    "    lw=lw,\n",
    "    label=\"LR + XGB + Resf5C (0.82)\" % roc_auc4,\n",
    ")\n",
    "plt.plot(\n",
    "    fpr5,\n",
    "    tpr5,\n",
    "    color=\"tomato\",\n",
    "    lw=lw,\n",
    "    label=\"XGB + Resf5C (0.83)\" % roc_auc5,\n",
    ")\n",
    "\n",
    "font1 = {'family' : 'Arial',\n",
    "'weight' : 'bold',\n",
    "'size' : 15,\n",
    "}\n",
    "font2 = {'family' : 'Arial',\n",
    "'weight' : 'normal',\n",
    "'size' : 13,\n",
    "}\n",
    "plt.plot([0, 1], [0, 1], color=\"navy\", lw=lw, linestyle=\"--\")\n",
    "plt.xlim([0.0, 1.0])\n",
    "plt.ylim([0.0, 1.05])\n",
    "plt.xlabel(\"1 - Specificity (False Positive Rate)\", font2)\n",
    "plt.ylabel(\"Sensitivity (True Positive Rate)\", font2)\n",
    "plt.title(\"Roc Curves under Independent Test (Ensemble)\",font1)\n",
    "plt.legend(loc=\"lower right\")\n",
    "plt.savefig(file_path+'ensemble.svg', format='svg')"
   ]
  }
 ],
 "metadata": {
  "kernelspec": {
   "display_name": "Python 3 (ipykernel)",
   "language": "python",
   "name": "python3"
  },
  "language_info": {
   "codemirror_mode": {
    "name": "ipython",
    "version": 3
   },
   "file_extension": ".py",
   "mimetype": "text/x-python",
   "name": "python",
   "nbconvert_exporter": "python",
   "pygments_lexer": "ipython3",
   "version": "3.9.7"
  }
 },
 "nbformat": 4,
 "nbformat_minor": 5
}
